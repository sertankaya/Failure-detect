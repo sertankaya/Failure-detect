{
 "cells": [
  {
   "cell_type": "markdown",
   "metadata": {},
   "source": [
    "# The Task"
   ]
  },
  {
   "cell_type": "markdown",
   "metadata": {},
   "source": [
    "## 1. Research:"
   ]
  },
  {
   "cell_type": "code",
   "execution_count": 1,
   "metadata": {},
   "outputs": [],
   "source": [
    "import pandas as pd\n",
    "import numpy as np\n",
    "import tensorflow as tf\n",
    "import matplotlib.pyplot as plt\n",
    "from sklearn.preprocessing import StandardScaler\n",
    "from sklearn.model_selection import train_test_split\n",
    "from sklearn.svm import SVC\n",
    "from sklearn.metrics import confusion_matrix\n",
    "from sklearn.model_selection import cross_val_score\n",
    "from sklearn.ensemble import RandomForestClassifier\n",
    "from xgboost import XGBClassifier\n",
    "from sklearn.metrics import cohen_kappa_score\n",
    "from sklearn import metrics\n",
    "from sklearn.naive_bayes import GaussianNB\n",
    "from sklearn.neighbors import KNeighborsClassifier\n",
    "%matplotlib inline"
   ]
  },
  {
   "cell_type": "markdown",
   "metadata": {},
   "source": [
    "### Let's take a look at predict_failure data"
   ]
  },
  {
   "cell_type": "code",
   "execution_count": 2,
   "metadata": {},
   "outputs": [
    {
     "name": "stdout",
     "output_type": "stream",
     "text": [
      "<class 'pandas.core.frame.DataFrame'>\n",
      "RangeIndex: 124494 entries, 0 to 124493\n",
      "Data columns (total 12 columns):\n",
      "date          124494 non-null object\n",
      "device        124494 non-null object\n",
      "failure       124494 non-null int64\n",
      "attribute1    124494 non-null int64\n",
      "attribute2    124494 non-null int64\n",
      "attribute3    124494 non-null int64\n",
      "attribute4    124494 non-null int64\n",
      "attribute5    124494 non-null int64\n",
      "attribute6    124494 non-null int64\n",
      "attribute7    124494 non-null int64\n",
      "attribute8    124494 non-null int64\n",
      "attribute9    124494 non-null int64\n",
      "dtypes: int64(10), object(2)\n",
      "memory usage: 11.4+ MB\n"
     ]
    },
    {
     "data": {
      "text/html": [
       "<div>\n",
       "<style scoped>\n",
       "    .dataframe tbody tr th:only-of-type {\n",
       "        vertical-align: middle;\n",
       "    }\n",
       "\n",
       "    .dataframe tbody tr th {\n",
       "        vertical-align: top;\n",
       "    }\n",
       "\n",
       "    .dataframe thead th {\n",
       "        text-align: right;\n",
       "    }\n",
       "</style>\n",
       "<table border=\"1\" class=\"dataframe\">\n",
       "  <thead>\n",
       "    <tr style=\"text-align: right;\">\n",
       "      <th></th>\n",
       "      <th>date</th>\n",
       "      <th>device</th>\n",
       "      <th>failure</th>\n",
       "      <th>attribute1</th>\n",
       "      <th>attribute2</th>\n",
       "      <th>attribute3</th>\n",
       "      <th>attribute4</th>\n",
       "      <th>attribute5</th>\n",
       "      <th>attribute6</th>\n",
       "      <th>attribute7</th>\n",
       "      <th>attribute8</th>\n",
       "      <th>attribute9</th>\n",
       "    </tr>\n",
       "  </thead>\n",
       "  <tbody>\n",
       "    <tr>\n",
       "      <th>0</th>\n",
       "      <td>2015-01-01</td>\n",
       "      <td>S1F01085</td>\n",
       "      <td>0</td>\n",
       "      <td>215630672</td>\n",
       "      <td>56</td>\n",
       "      <td>0</td>\n",
       "      <td>52</td>\n",
       "      <td>6</td>\n",
       "      <td>407438</td>\n",
       "      <td>0</td>\n",
       "      <td>0</td>\n",
       "      <td>7</td>\n",
       "    </tr>\n",
       "    <tr>\n",
       "      <th>1</th>\n",
       "      <td>2015-01-01</td>\n",
       "      <td>S1F0166B</td>\n",
       "      <td>0</td>\n",
       "      <td>61370680</td>\n",
       "      <td>0</td>\n",
       "      <td>3</td>\n",
       "      <td>0</td>\n",
       "      <td>6</td>\n",
       "      <td>403174</td>\n",
       "      <td>0</td>\n",
       "      <td>0</td>\n",
       "      <td>0</td>\n",
       "    </tr>\n",
       "    <tr>\n",
       "      <th>2</th>\n",
       "      <td>2015-01-01</td>\n",
       "      <td>S1F01E6Y</td>\n",
       "      <td>0</td>\n",
       "      <td>173295968</td>\n",
       "      <td>0</td>\n",
       "      <td>0</td>\n",
       "      <td>0</td>\n",
       "      <td>12</td>\n",
       "      <td>237394</td>\n",
       "      <td>0</td>\n",
       "      <td>0</td>\n",
       "      <td>0</td>\n",
       "    </tr>\n",
       "    <tr>\n",
       "      <th>3</th>\n",
       "      <td>2015-01-01</td>\n",
       "      <td>S1F01JE0</td>\n",
       "      <td>0</td>\n",
       "      <td>79694024</td>\n",
       "      <td>0</td>\n",
       "      <td>0</td>\n",
       "      <td>0</td>\n",
       "      <td>6</td>\n",
       "      <td>410186</td>\n",
       "      <td>0</td>\n",
       "      <td>0</td>\n",
       "      <td>0</td>\n",
       "    </tr>\n",
       "    <tr>\n",
       "      <th>4</th>\n",
       "      <td>2015-01-01</td>\n",
       "      <td>S1F01R2B</td>\n",
       "      <td>0</td>\n",
       "      <td>135970480</td>\n",
       "      <td>0</td>\n",
       "      <td>0</td>\n",
       "      <td>0</td>\n",
       "      <td>15</td>\n",
       "      <td>313173</td>\n",
       "      <td>0</td>\n",
       "      <td>0</td>\n",
       "      <td>3</td>\n",
       "    </tr>\n",
       "    <tr>\n",
       "      <th>5</th>\n",
       "      <td>2015-01-01</td>\n",
       "      <td>S1F01TD5</td>\n",
       "      <td>0</td>\n",
       "      <td>68837488</td>\n",
       "      <td>0</td>\n",
       "      <td>0</td>\n",
       "      <td>41</td>\n",
       "      <td>6</td>\n",
       "      <td>413535</td>\n",
       "      <td>0</td>\n",
       "      <td>0</td>\n",
       "      <td>1</td>\n",
       "    </tr>\n",
       "    <tr>\n",
       "      <th>6</th>\n",
       "      <td>2015-01-01</td>\n",
       "      <td>S1F01XDJ</td>\n",
       "      <td>0</td>\n",
       "      <td>227721632</td>\n",
       "      <td>0</td>\n",
       "      <td>0</td>\n",
       "      <td>0</td>\n",
       "      <td>8</td>\n",
       "      <td>402525</td>\n",
       "      <td>0</td>\n",
       "      <td>0</td>\n",
       "      <td>0</td>\n",
       "    </tr>\n",
       "    <tr>\n",
       "      <th>7</th>\n",
       "      <td>2015-01-01</td>\n",
       "      <td>S1F023H2</td>\n",
       "      <td>0</td>\n",
       "      <td>141503600</td>\n",
       "      <td>0</td>\n",
       "      <td>0</td>\n",
       "      <td>1</td>\n",
       "      <td>19</td>\n",
       "      <td>494462</td>\n",
       "      <td>16</td>\n",
       "      <td>16</td>\n",
       "      <td>3</td>\n",
       "    </tr>\n",
       "    <tr>\n",
       "      <th>8</th>\n",
       "      <td>2015-01-01</td>\n",
       "      <td>S1F02A0J</td>\n",
       "      <td>0</td>\n",
       "      <td>8217840</td>\n",
       "      <td>0</td>\n",
       "      <td>1</td>\n",
       "      <td>0</td>\n",
       "      <td>14</td>\n",
       "      <td>311869</td>\n",
       "      <td>0</td>\n",
       "      <td>0</td>\n",
       "      <td>0</td>\n",
       "    </tr>\n",
       "    <tr>\n",
       "      <th>9</th>\n",
       "      <td>2015-01-01</td>\n",
       "      <td>S1F02DZ2</td>\n",
       "      <td>0</td>\n",
       "      <td>116440096</td>\n",
       "      <td>0</td>\n",
       "      <td>323</td>\n",
       "      <td>9</td>\n",
       "      <td>9</td>\n",
       "      <td>407905</td>\n",
       "      <td>0</td>\n",
       "      <td>0</td>\n",
       "      <td>164</td>\n",
       "    </tr>\n",
       "  </tbody>\n",
       "</table>\n",
       "</div>"
      ],
      "text/plain": [
       "         date    device  failure  attribute1  attribute2  attribute3  \\\n",
       "0  2015-01-01  S1F01085        0   215630672          56           0   \n",
       "1  2015-01-01  S1F0166B        0    61370680           0           3   \n",
       "2  2015-01-01  S1F01E6Y        0   173295968           0           0   \n",
       "3  2015-01-01  S1F01JE0        0    79694024           0           0   \n",
       "4  2015-01-01  S1F01R2B        0   135970480           0           0   \n",
       "5  2015-01-01  S1F01TD5        0    68837488           0           0   \n",
       "6  2015-01-01  S1F01XDJ        0   227721632           0           0   \n",
       "7  2015-01-01  S1F023H2        0   141503600           0           0   \n",
       "8  2015-01-01  S1F02A0J        0     8217840           0           1   \n",
       "9  2015-01-01  S1F02DZ2        0   116440096           0         323   \n",
       "\n",
       "   attribute4  attribute5  attribute6  attribute7  attribute8  attribute9  \n",
       "0          52           6      407438           0           0           7  \n",
       "1           0           6      403174           0           0           0  \n",
       "2           0          12      237394           0           0           0  \n",
       "3           0           6      410186           0           0           0  \n",
       "4           0          15      313173           0           0           3  \n",
       "5          41           6      413535           0           0           1  \n",
       "6           0           8      402525           0           0           0  \n",
       "7           1          19      494462          16          16           3  \n",
       "8           0          14      311869           0           0           0  \n",
       "9           9           9      407905           0           0         164  "
      ]
     },
     "execution_count": 2,
     "metadata": {},
     "output_type": "execute_result"
    }
   ],
   "source": [
    "df = pd.read_csv('predict_failure.csv')\n",
    "df.info()\n",
    "df.head(10)"
   ]
  },
  {
   "cell_type": "markdown",
   "metadata": {},
   "source": [
    "## In order to resolve unbalance data problem, we are increasing number of positive samples by creating 100 copy of each positive samples. \n",
    "## We basicaly read thru entire data set and identify positive samples (failure==1). Then copy each and every of them, generate 100 of them and finally append them to our data frame.\n",
    "## So that, we would add 100*positive samples which is roughly 10,000 positive samples. This approach is called \"Oversampling\" to handle unbalanced data set problems"
   ]
  },
  {
   "cell_type": "code",
   "execution_count": 4,
   "metadata": {},
   "outputs": [],
   "source": [
    "# This is how we implement to \"Oversampling\"\n",
    "j=0\n",
    "k=1\n",
    "for i in range(1,len(df)):  # Go thru entire data set\n",
    "    if df.iloc[i,2]==1:     # Identifying positive samples\n",
    "        for j in range(101):\n",
    "            df.loc[len(df)+k]=df.iloc[i,:]  # Copying each samples 100 times and appending the data frame\n",
    "            k+=1\n"
   ]
  },
  {
   "cell_type": "code",
   "execution_count": 9,
   "metadata": {},
   "outputs": [
    {
     "data": {
      "text/html": [
       "<div>\n",
       "<style scoped>\n",
       "    .dataframe tbody tr th:only-of-type {\n",
       "        vertical-align: middle;\n",
       "    }\n",
       "\n",
       "    .dataframe tbody tr th {\n",
       "        vertical-align: top;\n",
       "    }\n",
       "\n",
       "    .dataframe thead th {\n",
       "        text-align: right;\n",
       "    }\n",
       "</style>\n",
       "<table border=\"1\" class=\"dataframe\">\n",
       "  <thead>\n",
       "    <tr style=\"text-align: right;\">\n",
       "      <th></th>\n",
       "      <th>date</th>\n",
       "      <th>device</th>\n",
       "      <th>failure</th>\n",
       "      <th>attribute1</th>\n",
       "      <th>attribute2</th>\n",
       "      <th>attribute3</th>\n",
       "      <th>attribute4</th>\n",
       "      <th>attribute5</th>\n",
       "      <th>attribute6</th>\n",
       "      <th>attribute7</th>\n",
       "      <th>attribute8</th>\n",
       "      <th>attribute9</th>\n",
       "    </tr>\n",
       "  </thead>\n",
       "  <tbody>\n",
       "    <tr>\n",
       "      <th>38691</th>\n",
       "      <td>2015-02-20</td>\n",
       "      <td>S1F117PK</td>\n",
       "      <td>0</td>\n",
       "      <td>23337704</td>\n",
       "      <td>0</td>\n",
       "      <td>0</td>\n",
       "      <td>0</td>\n",
       "      <td>12</td>\n",
       "      <td>215277</td>\n",
       "      <td>0</td>\n",
       "      <td>0</td>\n",
       "      <td>0</td>\n",
       "    </tr>\n",
       "    <tr>\n",
       "      <th>74232</th>\n",
       "      <td>2015-04-25</td>\n",
       "      <td>S1F0C95J</td>\n",
       "      <td>0</td>\n",
       "      <td>49665864</td>\n",
       "      <td>0</td>\n",
       "      <td>0</td>\n",
       "      <td>0</td>\n",
       "      <td>5</td>\n",
       "      <td>269684</td>\n",
       "      <td>0</td>\n",
       "      <td>0</td>\n",
       "      <td>0</td>\n",
       "    </tr>\n",
       "    <tr>\n",
       "      <th>25479</th>\n",
       "      <td>2015-02-01</td>\n",
       "      <td>W1F0X6V0</td>\n",
       "      <td>0</td>\n",
       "      <td>27524104</td>\n",
       "      <td>0</td>\n",
       "      <td>0</td>\n",
       "      <td>0</td>\n",
       "      <td>11</td>\n",
       "      <td>236484</td>\n",
       "      <td>0</td>\n",
       "      <td>0</td>\n",
       "      <td>0</td>\n",
       "    </tr>\n",
       "    <tr>\n",
       "      <th>12209</th>\n",
       "      <td>2015-01-14</td>\n",
       "      <td>S1F0CVWK</td>\n",
       "      <td>0</td>\n",
       "      <td>5591504</td>\n",
       "      <td>1928</td>\n",
       "      <td>0</td>\n",
       "      <td>6</td>\n",
       "      <td>7</td>\n",
       "      <td>365325</td>\n",
       "      <td>0</td>\n",
       "      <td>0</td>\n",
       "      <td>0</td>\n",
       "    </tr>\n",
       "    <tr>\n",
       "      <th>17790</th>\n",
       "      <td>2015-01-21</td>\n",
       "      <td>Z1F0L3BL</td>\n",
       "      <td>0</td>\n",
       "      <td>53565592</td>\n",
       "      <td>0</td>\n",
       "      <td>0</td>\n",
       "      <td>0</td>\n",
       "      <td>6</td>\n",
       "      <td>305443</td>\n",
       "      <td>0</td>\n",
       "      <td>0</td>\n",
       "      <td>0</td>\n",
       "    </tr>\n",
       "    <tr>\n",
       "      <th>53684</th>\n",
       "      <td>2015-03-14</td>\n",
       "      <td>W1F0VA0G</td>\n",
       "      <td>0</td>\n",
       "      <td>75590136</td>\n",
       "      <td>0</td>\n",
       "      <td>56</td>\n",
       "      <td>0</td>\n",
       "      <td>12</td>\n",
       "      <td>318445</td>\n",
       "      <td>0</td>\n",
       "      <td>0</td>\n",
       "      <td>0</td>\n",
       "    </tr>\n",
       "    <tr>\n",
       "      <th>128669</th>\n",
       "      <td>2015-01-27</td>\n",
       "      <td>W1F03DP4</td>\n",
       "      <td>1</td>\n",
       "      <td>166313728</td>\n",
       "      <td>0</td>\n",
       "      <td>8</td>\n",
       "      <td>19</td>\n",
       "      <td>17</td>\n",
       "      <td>331619</td>\n",
       "      <td>744</td>\n",
       "      <td>744</td>\n",
       "      <td>1080</td>\n",
       "    </tr>\n",
       "    <tr>\n",
       "      <th>122620</th>\n",
       "      <td>2015-10-08</td>\n",
       "      <td>W1F18TKX</td>\n",
       "      <td>0</td>\n",
       "      <td>18095904</td>\n",
       "      <td>0</td>\n",
       "      <td>0</td>\n",
       "      <td>0</td>\n",
       "      <td>12</td>\n",
       "      <td>249929</td>\n",
       "      <td>0</td>\n",
       "      <td>0</td>\n",
       "      <td>0</td>\n",
       "    </tr>\n",
       "    <tr>\n",
       "      <th>114693</th>\n",
       "      <td>2015-08-20</td>\n",
       "      <td>W1F111N7</td>\n",
       "      <td>0</td>\n",
       "      <td>124630728</td>\n",
       "      <td>0</td>\n",
       "      <td>0</td>\n",
       "      <td>0</td>\n",
       "      <td>8</td>\n",
       "      <td>224679</td>\n",
       "      <td>0</td>\n",
       "      <td>0</td>\n",
       "      <td>0</td>\n",
       "    </tr>\n",
       "    <tr>\n",
       "      <th>54014</th>\n",
       "      <td>2015-03-15</td>\n",
       "      <td>S1F0GSD9</td>\n",
       "      <td>0</td>\n",
       "      <td>44318952</td>\n",
       "      <td>0</td>\n",
       "      <td>0</td>\n",
       "      <td>0</td>\n",
       "      <td>12</td>\n",
       "      <td>225014</td>\n",
       "      <td>0</td>\n",
       "      <td>0</td>\n",
       "      <td>0</td>\n",
       "    </tr>\n",
       "  </tbody>\n",
       "</table>\n",
       "</div>"
      ],
      "text/plain": [
       "              date    device  failure  attribute1  attribute2  attribute3  \\\n",
       "38691   2015-02-20  S1F117PK        0    23337704           0           0   \n",
       "74232   2015-04-25  S1F0C95J        0    49665864           0           0   \n",
       "25479   2015-02-01  W1F0X6V0        0    27524104           0           0   \n",
       "12209   2015-01-14  S1F0CVWK        0     5591504        1928           0   \n",
       "17790   2015-01-21  Z1F0L3BL        0    53565592           0           0   \n",
       "53684   2015-03-14  W1F0VA0G        0    75590136           0          56   \n",
       "128669  2015-01-27  W1F03DP4        1   166313728           0           8   \n",
       "122620  2015-10-08  W1F18TKX        0    18095904           0           0   \n",
       "114693  2015-08-20  W1F111N7        0   124630728           0           0   \n",
       "54014   2015-03-15  S1F0GSD9        0    44318952           0           0   \n",
       "\n",
       "        attribute4  attribute5  attribute6  attribute7  attribute8  attribute9  \n",
       "38691            0          12      215277           0           0           0  \n",
       "74232            0           5      269684           0           0           0  \n",
       "25479            0          11      236484           0           0           0  \n",
       "12209            6           7      365325           0           0           0  \n",
       "17790            0           6      305443           0           0           0  \n",
       "53684            0          12      318445           0           0           0  \n",
       "128669          19          17      331619         744         744        1080  \n",
       "122620           0          12      249929           0           0           0  \n",
       "114693           0           8      224679           0           0           0  \n",
       "54014            0          12      225014           0           0           0  "
      ]
     },
     "execution_count": 9,
     "metadata": {},
     "output_type": "execute_result"
    }
   ],
   "source": [
    "# Mixing the data, so that positive and negative samples are randomly distributed\n",
    "df_new=df.reindex(np.random.permutation(df.index))\n",
    "df_new.head(10) # Mixed first 10 samples"
   ]
  },
  {
   "cell_type": "code",
   "execution_count": 8,
   "metadata": {},
   "outputs": [
    {
     "data": {
      "text/html": [
       "<div>\n",
       "<style scoped>\n",
       "    .dataframe tbody tr th:only-of-type {\n",
       "        vertical-align: middle;\n",
       "    }\n",
       "\n",
       "    .dataframe tbody tr th {\n",
       "        vertical-align: top;\n",
       "    }\n",
       "\n",
       "    .dataframe thead th {\n",
       "        text-align: right;\n",
       "    }\n",
       "</style>\n",
       "<table border=\"1\" class=\"dataframe\">\n",
       "  <thead>\n",
       "    <tr style=\"text-align: right;\">\n",
       "      <th></th>\n",
       "      <th>date</th>\n",
       "      <th>device</th>\n",
       "      <th>failure</th>\n",
       "      <th>attribute1</th>\n",
       "      <th>attribute2</th>\n",
       "      <th>attribute3</th>\n",
       "      <th>attribute4</th>\n",
       "      <th>attribute5</th>\n",
       "      <th>attribute6</th>\n",
       "      <th>attribute7</th>\n",
       "      <th>attribute8</th>\n",
       "      <th>attribute9</th>\n",
       "    </tr>\n",
       "  </thead>\n",
       "  <tbody>\n",
       "    <tr>\n",
       "      <th>0</th>\n",
       "      <td>2015-01-01</td>\n",
       "      <td>S1F01085</td>\n",
       "      <td>0</td>\n",
       "      <td>215630672</td>\n",
       "      <td>56</td>\n",
       "      <td>0</td>\n",
       "      <td>52</td>\n",
       "      <td>6</td>\n",
       "      <td>407438</td>\n",
       "      <td>0</td>\n",
       "      <td>0</td>\n",
       "      <td>7</td>\n",
       "    </tr>\n",
       "    <tr>\n",
       "      <th>1</th>\n",
       "      <td>2015-01-01</td>\n",
       "      <td>S1F0166B</td>\n",
       "      <td>0</td>\n",
       "      <td>61370680</td>\n",
       "      <td>0</td>\n",
       "      <td>3</td>\n",
       "      <td>0</td>\n",
       "      <td>6</td>\n",
       "      <td>403174</td>\n",
       "      <td>0</td>\n",
       "      <td>0</td>\n",
       "      <td>0</td>\n",
       "    </tr>\n",
       "    <tr>\n",
       "      <th>2</th>\n",
       "      <td>2015-01-01</td>\n",
       "      <td>S1F01E6Y</td>\n",
       "      <td>0</td>\n",
       "      <td>173295968</td>\n",
       "      <td>0</td>\n",
       "      <td>0</td>\n",
       "      <td>0</td>\n",
       "      <td>12</td>\n",
       "      <td>237394</td>\n",
       "      <td>0</td>\n",
       "      <td>0</td>\n",
       "      <td>0</td>\n",
       "    </tr>\n",
       "    <tr>\n",
       "      <th>3</th>\n",
       "      <td>2015-01-01</td>\n",
       "      <td>S1F01JE0</td>\n",
       "      <td>0</td>\n",
       "      <td>79694024</td>\n",
       "      <td>0</td>\n",
       "      <td>0</td>\n",
       "      <td>0</td>\n",
       "      <td>6</td>\n",
       "      <td>410186</td>\n",
       "      <td>0</td>\n",
       "      <td>0</td>\n",
       "      <td>0</td>\n",
       "    </tr>\n",
       "    <tr>\n",
       "      <th>4</th>\n",
       "      <td>2015-01-01</td>\n",
       "      <td>S1F01R2B</td>\n",
       "      <td>0</td>\n",
       "      <td>135970480</td>\n",
       "      <td>0</td>\n",
       "      <td>0</td>\n",
       "      <td>0</td>\n",
       "      <td>15</td>\n",
       "      <td>313173</td>\n",
       "      <td>0</td>\n",
       "      <td>0</td>\n",
       "      <td>3</td>\n",
       "    </tr>\n",
       "    <tr>\n",
       "      <th>5</th>\n",
       "      <td>2015-01-01</td>\n",
       "      <td>S1F01TD5</td>\n",
       "      <td>0</td>\n",
       "      <td>68837488</td>\n",
       "      <td>0</td>\n",
       "      <td>0</td>\n",
       "      <td>41</td>\n",
       "      <td>6</td>\n",
       "      <td>413535</td>\n",
       "      <td>0</td>\n",
       "      <td>0</td>\n",
       "      <td>1</td>\n",
       "    </tr>\n",
       "    <tr>\n",
       "      <th>6</th>\n",
       "      <td>2015-01-01</td>\n",
       "      <td>S1F01XDJ</td>\n",
       "      <td>0</td>\n",
       "      <td>227721632</td>\n",
       "      <td>0</td>\n",
       "      <td>0</td>\n",
       "      <td>0</td>\n",
       "      <td>8</td>\n",
       "      <td>402525</td>\n",
       "      <td>0</td>\n",
       "      <td>0</td>\n",
       "      <td>0</td>\n",
       "    </tr>\n",
       "    <tr>\n",
       "      <th>7</th>\n",
       "      <td>2015-01-01</td>\n",
       "      <td>S1F023H2</td>\n",
       "      <td>0</td>\n",
       "      <td>141503600</td>\n",
       "      <td>0</td>\n",
       "      <td>0</td>\n",
       "      <td>1</td>\n",
       "      <td>19</td>\n",
       "      <td>494462</td>\n",
       "      <td>16</td>\n",
       "      <td>16</td>\n",
       "      <td>3</td>\n",
       "    </tr>\n",
       "    <tr>\n",
       "      <th>8</th>\n",
       "      <td>2015-01-01</td>\n",
       "      <td>S1F02A0J</td>\n",
       "      <td>0</td>\n",
       "      <td>8217840</td>\n",
       "      <td>0</td>\n",
       "      <td>1</td>\n",
       "      <td>0</td>\n",
       "      <td>14</td>\n",
       "      <td>311869</td>\n",
       "      <td>0</td>\n",
       "      <td>0</td>\n",
       "      <td>0</td>\n",
       "    </tr>\n",
       "    <tr>\n",
       "      <th>9</th>\n",
       "      <td>2015-01-01</td>\n",
       "      <td>S1F02DZ2</td>\n",
       "      <td>0</td>\n",
       "      <td>116440096</td>\n",
       "      <td>0</td>\n",
       "      <td>323</td>\n",
       "      <td>9</td>\n",
       "      <td>9</td>\n",
       "      <td>407905</td>\n",
       "      <td>0</td>\n",
       "      <td>0</td>\n",
       "      <td>164</td>\n",
       "    </tr>\n",
       "  </tbody>\n",
       "</table>\n",
       "</div>"
      ],
      "text/plain": [
       "         date    device  failure  attribute1  attribute2  attribute3  \\\n",
       "0  2015-01-01  S1F01085        0   215630672          56           0   \n",
       "1  2015-01-01  S1F0166B        0    61370680           0           3   \n",
       "2  2015-01-01  S1F01E6Y        0   173295968           0           0   \n",
       "3  2015-01-01  S1F01JE0        0    79694024           0           0   \n",
       "4  2015-01-01  S1F01R2B        0   135970480           0           0   \n",
       "5  2015-01-01  S1F01TD5        0    68837488           0           0   \n",
       "6  2015-01-01  S1F01XDJ        0   227721632           0           0   \n",
       "7  2015-01-01  S1F023H2        0   141503600           0           0   \n",
       "8  2015-01-01  S1F02A0J        0     8217840           0           1   \n",
       "9  2015-01-01  S1F02DZ2        0   116440096           0         323   \n",
       "\n",
       "   attribute4  attribute5  attribute6  attribute7  attribute8  attribute9  \n",
       "0          52           6      407438           0           0           7  \n",
       "1           0           6      403174           0           0           0  \n",
       "2           0          12      237394           0           0           0  \n",
       "3           0           6      410186           0           0           0  \n",
       "4           0          15      313173           0           0           3  \n",
       "5          41           6      413535           0           0           1  \n",
       "6           0           8      402525           0           0           0  \n",
       "7           1          19      494462          16          16           3  \n",
       "8           0          14      311869           0           0           0  \n",
       "9           9           9      407905           0           0         164  "
      ]
     },
     "execution_count": 8,
     "metadata": {},
     "output_type": "execute_result"
    }
   ],
   "source": [
    "df.head(10) # Original first 10 samples"
   ]
  },
  {
   "cell_type": "markdown",
   "metadata": {},
   "source": [
    "### Arrange feature_vectors and labels"
   ]
  },
  {
   "cell_type": "code",
   "execution_count": 70,
   "metadata": {},
   "outputs": [],
   "source": [
    "feature_vectors=df_new[['attribute1','attribute2','attribute3','attribute4','attribute5','attribute6','attribute7','attribute8','attribute9']]\n",
    "labels=df_new['failure']"
   ]
  },
  {
   "cell_type": "code",
   "execution_count": 71,
   "metadata": {},
   "outputs": [
    {
     "data": {
      "text/html": [
       "<div>\n",
       "<style scoped>\n",
       "    .dataframe tbody tr th:only-of-type {\n",
       "        vertical-align: middle;\n",
       "    }\n",
       "\n",
       "    .dataframe tbody tr th {\n",
       "        vertical-align: top;\n",
       "    }\n",
       "\n",
       "    .dataframe thead th {\n",
       "        text-align: right;\n",
       "    }\n",
       "</style>\n",
       "<table border=\"1\" class=\"dataframe\">\n",
       "  <thead>\n",
       "    <tr style=\"text-align: right;\">\n",
       "      <th></th>\n",
       "      <th>attribute1</th>\n",
       "      <th>attribute2</th>\n",
       "      <th>attribute3</th>\n",
       "      <th>attribute4</th>\n",
       "      <th>attribute5</th>\n",
       "      <th>attribute6</th>\n",
       "      <th>attribute7</th>\n",
       "      <th>attribute8</th>\n",
       "      <th>attribute9</th>\n",
       "    </tr>\n",
       "  </thead>\n",
       "  <tbody>\n",
       "    <tr>\n",
       "      <th>38691</th>\n",
       "      <td>23337704</td>\n",
       "      <td>0</td>\n",
       "      <td>0</td>\n",
       "      <td>0</td>\n",
       "      <td>12</td>\n",
       "      <td>215277</td>\n",
       "      <td>0</td>\n",
       "      <td>0</td>\n",
       "      <td>0</td>\n",
       "    </tr>\n",
       "    <tr>\n",
       "      <th>74232</th>\n",
       "      <td>49665864</td>\n",
       "      <td>0</td>\n",
       "      <td>0</td>\n",
       "      <td>0</td>\n",
       "      <td>5</td>\n",
       "      <td>269684</td>\n",
       "      <td>0</td>\n",
       "      <td>0</td>\n",
       "      <td>0</td>\n",
       "    </tr>\n",
       "    <tr>\n",
       "      <th>25479</th>\n",
       "      <td>27524104</td>\n",
       "      <td>0</td>\n",
       "      <td>0</td>\n",
       "      <td>0</td>\n",
       "      <td>11</td>\n",
       "      <td>236484</td>\n",
       "      <td>0</td>\n",
       "      <td>0</td>\n",
       "      <td>0</td>\n",
       "    </tr>\n",
       "    <tr>\n",
       "      <th>12209</th>\n",
       "      <td>5591504</td>\n",
       "      <td>1928</td>\n",
       "      <td>0</td>\n",
       "      <td>6</td>\n",
       "      <td>7</td>\n",
       "      <td>365325</td>\n",
       "      <td>0</td>\n",
       "      <td>0</td>\n",
       "      <td>0</td>\n",
       "    </tr>\n",
       "    <tr>\n",
       "      <th>17790</th>\n",
       "      <td>53565592</td>\n",
       "      <td>0</td>\n",
       "      <td>0</td>\n",
       "      <td>0</td>\n",
       "      <td>6</td>\n",
       "      <td>305443</td>\n",
       "      <td>0</td>\n",
       "      <td>0</td>\n",
       "      <td>0</td>\n",
       "    </tr>\n",
       "  </tbody>\n",
       "</table>\n",
       "</div>"
      ],
      "text/plain": [
       "       attribute1  attribute2  attribute3  attribute4  attribute5  attribute6  \\\n",
       "38691    23337704           0           0           0          12      215277   \n",
       "74232    49665864           0           0           0           5      269684   \n",
       "25479    27524104           0           0           0          11      236484   \n",
       "12209     5591504        1928           0           6           7      365325   \n",
       "17790    53565592           0           0           0           6      305443   \n",
       "\n",
       "       attribute7  attribute8  attribute9  \n",
       "38691           0           0           0  \n",
       "74232           0           0           0  \n",
       "25479           0           0           0  \n",
       "12209           0           0           0  \n",
       "17790           0           0           0  "
      ]
     },
     "execution_count": 71,
     "metadata": {},
     "output_type": "execute_result"
    }
   ],
   "source": [
    "feature_vectors.head()"
   ]
  },
  {
   "cell_type": "code",
   "execution_count": 72,
   "metadata": {},
   "outputs": [
    {
     "data": {
      "text/plain": [
       "38691    0\n",
       "74232    0\n",
       "25479    0\n",
       "12209    0\n",
       "17790    0\n",
       "Name: failure, dtype: int64"
      ]
     },
     "execution_count": 72,
     "metadata": {},
     "output_type": "execute_result"
    }
   ],
   "source": [
    "labels.head()"
   ]
  },
  {
   "cell_type": "markdown",
   "metadata": {},
   "source": [
    "### Now, let's normalize our feature_vectors as follows (or sklearn):"
   ]
  },
  {
   "cell_type": "code",
   "execution_count": 73,
   "metadata": {},
   "outputs": [],
   "source": [
    "feature_vectors=feature_vectors.apply(lambda x: (x-x.min())/(x.max()-x.min()))"
   ]
  },
  {
   "cell_type": "code",
   "execution_count": 74,
   "metadata": {},
   "outputs": [
    {
     "data": {
      "text/html": [
       "<div>\n",
       "<style scoped>\n",
       "    .dataframe tbody tr th:only-of-type {\n",
       "        vertical-align: middle;\n",
       "    }\n",
       "\n",
       "    .dataframe tbody tr th {\n",
       "        vertical-align: top;\n",
       "    }\n",
       "\n",
       "    .dataframe thead th {\n",
       "        text-align: right;\n",
       "    }\n",
       "</style>\n",
       "<table border=\"1\" class=\"dataframe\">\n",
       "  <thead>\n",
       "    <tr style=\"text-align: right;\">\n",
       "      <th></th>\n",
       "      <th>attribute1</th>\n",
       "      <th>attribute2</th>\n",
       "      <th>attribute3</th>\n",
       "      <th>attribute4</th>\n",
       "      <th>attribute5</th>\n",
       "      <th>attribute6</th>\n",
       "      <th>attribute7</th>\n",
       "      <th>attribute8</th>\n",
       "      <th>attribute9</th>\n",
       "    </tr>\n",
       "  </thead>\n",
       "  <tbody>\n",
       "    <tr>\n",
       "      <th>38691</th>\n",
       "      <td>0.095591</td>\n",
       "      <td>0.000000</td>\n",
       "      <td>0.0</td>\n",
       "      <td>0.000000</td>\n",
       "      <td>0.113402</td>\n",
       "      <td>0.312368</td>\n",
       "      <td>0.0</td>\n",
       "      <td>0.0</td>\n",
       "      <td>0.0</td>\n",
       "    </tr>\n",
       "    <tr>\n",
       "      <th>74232</th>\n",
       "      <td>0.203431</td>\n",
       "      <td>0.000000</td>\n",
       "      <td>0.0</td>\n",
       "      <td>0.000000</td>\n",
       "      <td>0.041237</td>\n",
       "      <td>0.391315</td>\n",
       "      <td>0.0</td>\n",
       "      <td>0.0</td>\n",
       "      <td>0.0</td>\n",
       "    </tr>\n",
       "    <tr>\n",
       "      <th>25479</th>\n",
       "      <td>0.112739</td>\n",
       "      <td>0.000000</td>\n",
       "      <td>0.0</td>\n",
       "      <td>0.000000</td>\n",
       "      <td>0.103093</td>\n",
       "      <td>0.343140</td>\n",
       "      <td>0.0</td>\n",
       "      <td>0.0</td>\n",
       "      <td>0.0</td>\n",
       "    </tr>\n",
       "    <tr>\n",
       "      <th>12209</th>\n",
       "      <td>0.022903</td>\n",
       "      <td>0.029676</td>\n",
       "      <td>0.0</td>\n",
       "      <td>0.003601</td>\n",
       "      <td>0.061856</td>\n",
       "      <td>0.530096</td>\n",
       "      <td>0.0</td>\n",
       "      <td>0.0</td>\n",
       "      <td>0.0</td>\n",
       "    </tr>\n",
       "    <tr>\n",
       "      <th>17790</th>\n",
       "      <td>0.219405</td>\n",
       "      <td>0.000000</td>\n",
       "      <td>0.0</td>\n",
       "      <td>0.000000</td>\n",
       "      <td>0.051546</td>\n",
       "      <td>0.443203</td>\n",
       "      <td>0.0</td>\n",
       "      <td>0.0</td>\n",
       "      <td>0.0</td>\n",
       "    </tr>\n",
       "  </tbody>\n",
       "</table>\n",
       "</div>"
      ],
      "text/plain": [
       "       attribute1  attribute2  attribute3  attribute4  attribute5  attribute6  \\\n",
       "38691    0.095591    0.000000         0.0    0.000000    0.113402    0.312368   \n",
       "74232    0.203431    0.000000         0.0    0.000000    0.041237    0.391315   \n",
       "25479    0.112739    0.000000         0.0    0.000000    0.103093    0.343140   \n",
       "12209    0.022903    0.029676         0.0    0.003601    0.061856    0.530096   \n",
       "17790    0.219405    0.000000         0.0    0.000000    0.051546    0.443203   \n",
       "\n",
       "       attribute7  attribute8  attribute9  \n",
       "38691         0.0         0.0         0.0  \n",
       "74232         0.0         0.0         0.0  \n",
       "25479         0.0         0.0         0.0  \n",
       "12209         0.0         0.0         0.0  \n",
       "17790         0.0         0.0         0.0  "
      ]
     },
     "execution_count": 74,
     "metadata": {},
     "output_type": "execute_result"
    }
   ],
   "source": [
    "feature_vectors.head()"
   ]
  },
  {
   "cell_type": "markdown",
   "metadata": {},
   "source": [
    "### Next, let's split our data into train and test data as follows:"
   ]
  },
  {
   "cell_type": "code",
   "execution_count": 75,
   "metadata": {},
   "outputs": [],
   "source": [
    "X_train, X_test, y_train, y_test = train_test_split(feature_vectors, labels, test_size=0.20)  # Split into train and test data"
   ]
  },
  {
   "cell_type": "code",
   "execution_count": 76,
   "metadata": {},
   "outputs": [],
   "source": [
    "#X_train, X_val, y_train, y_val = train_test_split(X_train, y_train, test_size=0.20) # Incase of validation is needed - Split Train data to obtain Val data"
   ]
  },
  {
   "cell_type": "code",
   "execution_count": 77,
   "metadata": {},
   "outputs": [
    {
     "data": {
      "text/plain": [
       "((108160, 9), (27040, 9), (108160,), (27040,))"
      ]
     },
     "execution_count": 77,
     "metadata": {},
     "output_type": "execute_result"
    }
   ],
   "source": [
    "X_train.shape,  X_test.shape, y_train.shape,  y_test.shape"
   ]
  },
  {
   "cell_type": "markdown",
   "metadata": {},
   "source": [
    "### Now, let's explore various ML models for our data:"
   ]
  },
  {
   "cell_type": "markdown",
   "metadata": {},
   "source": [
    "### 1-) SVM (Support Vector Machine):"
   ]
  },
  {
   "cell_type": "code",
   "execution_count": 78,
   "metadata": {},
   "outputs": [
    {
     "name": "stderr",
     "output_type": "stream",
     "text": [
      "C:\\Users\\Sertan\\Anaconda3\\lib\\site-packages\\sklearn\\svm\\base.py:196: FutureWarning: The default value of gamma will change from 'auto' to 'scale' in version 0.22 to account better for unscaled features. Set gamma explicitly to 'auto' or 'scale' to avoid this warning.\n",
      "  \"avoid this warning.\", FutureWarning)\n"
     ]
    }
   ],
   "source": [
    "support_vector_classifier = SVC(kernel='rbf') # Rbf kernel for nonlinear classifier\n",
    "support_vector_classifier.fit(X_train,y_train)\n",
    "y_pred_svc = support_vector_classifier.predict(X_test)"
   ]
  },
  {
   "cell_type": "code",
   "execution_count": 79,
   "metadata": {},
   "outputs": [
    {
     "name": "stdout",
     "output_type": "stream",
     "text": [
      "[[24834    76]\n",
      " [ 1683   447]]\n",
      "\n",
      "Accuracy :  93.4948 %\n"
     ]
    }
   ],
   "source": [
    "# Generate confusion matrix and accuracy\n",
    "cm_support_vector_classifier = confusion_matrix(y_test,y_pred_svc) # Let's obtain the confusion matrix\n",
    "print(cm_support_vector_classifier,end='\\n\\n')\n",
    "numerator = cm_support_vector_classifier[0][0] + cm_support_vector_classifier[1][1]\n",
    "denominator = sum(cm_support_vector_classifier[0]) + sum(cm_support_vector_classifier[1])\n",
    "acc_svc = (numerator/denominator) * 100\n",
    "print(\"Accuracy : \",round(acc_svc,4),\"%\") # Let's find out the accurarcy"
   ]
  },
  {
   "cell_type": "code",
   "execution_count": 80,
   "metadata": {},
   "outputs": [
    {
     "name": "stdout",
     "output_type": "stream",
     "text": [
      "Cross Validation Accuracy :  93.3746 %\n"
     ]
    }
   ],
   "source": [
    "# Since when we split the data, it performs operation randomly. Therefore, due to each split operation, we might get\n",
    "# different accuracy. For that reason, we need to check cross validation. The cross validation basically, it just computes /\n",
    "# the accuracy leaving one testing out in different times. And then come out with the final accuracy\n",
    "cross_val_svc = cross_val_score(estimator = SVC(kernel = 'rbf'), X = X_train, y = y_train, cv = 10, n_jobs = -1)\n",
    "print(\"Cross Validation Accuracy : \",round(cross_val_svc.mean() * 100 , 4),\"%\")"
   ]
  },
  {
   "cell_type": "code",
   "execution_count": 81,
   "metadata": {},
   "outputs": [
    {
     "data": {
      "text/plain": [
       "0.3157"
      ]
     },
     "execution_count": 81,
     "metadata": {},
     "output_type": "execute_result"
    }
   ],
   "source": [
    "## Since data set is very unbalanced, let's check Cohen's Kappa Score\n",
    "cohen_score = cohen_kappa_score(y_test,y_pred_svc)\n",
    "round(cohen_score,4)"
   ]
  },
  {
   "cell_type": "markdown",
   "metadata": {},
   "source": [
    "### 2-) Random Forest Model:"
   ]
  },
  {
   "cell_type": "code",
   "execution_count": 82,
   "metadata": {},
   "outputs": [
    {
     "name": "stderr",
     "output_type": "stream",
     "text": [
      "C:\\Users\\Sertan\\Anaconda3\\lib\\site-packages\\sklearn\\ensemble\\forest.py:246: FutureWarning: The default value of n_estimators will change from 10 in version 0.20 to 100 in 0.22.\n",
      "  \"10 in version 0.20 to 100 in 0.22.\", FutureWarning)\n"
     ]
    }
   ],
   "source": [
    "random_forest_classifier = RandomForestClassifier()\n",
    "random_forest_classifier.fit(X_train,y_train)\n",
    "y_pred_rfc = random_forest_classifier.predict(X_test)"
   ]
  },
  {
   "cell_type": "code",
   "execution_count": 83,
   "metadata": {},
   "outputs": [
    {
     "name": "stdout",
     "output_type": "stream",
     "text": [
      "[[24900    10]\n",
      " [    0  2130]]\n",
      "\n",
      "Accuracy :  99.963 %\n"
     ]
    }
   ],
   "source": [
    "# Generate confusion matrix and accuracy\n",
    "cm_random_forest_classifier = confusion_matrix(y_test,y_pred_rfc)\n",
    "print(cm_random_forest_classifier,end=\"\\n\\n\")\n",
    "numerator = cm_random_forest_classifier[0][0] + cm_random_forest_classifier[1][1]\n",
    "denominator = sum(cm_random_forest_classifier[0]) + sum(cm_random_forest_classifier[1])\n",
    "acc_rfc = (numerator/denominator) * 100\n",
    "print(\"Accuracy : \",round(acc_rfc,4),\"%\")"
   ]
  },
  {
   "cell_type": "code",
   "execution_count": 84,
   "metadata": {},
   "outputs": [
    {
     "name": "stdout",
     "output_type": "stream",
     "text": [
      "Cross Validation Accuracy :  99.9695 %\n"
     ]
    }
   ],
   "source": [
    "cross_val_rfc = cross_val_score(estimator=RandomForestClassifier(), X=X_train, y=y_train, cv=10, n_jobs=-1)\n",
    "print(\"Cross Validation Accuracy : \",round(cross_val_rfc.mean() * 100 , 4),\"%\")"
   ]
  },
  {
   "cell_type": "code",
   "execution_count": 85,
   "metadata": {},
   "outputs": [
    {
     "data": {
      "text/plain": [
       "0.9975"
      ]
     },
     "execution_count": 85,
     "metadata": {},
     "output_type": "execute_result"
    }
   ],
   "source": [
    "## Since data set is very unbalanced, let's check Cohen's Kappa Score\n",
    "cohen_score = cohen_kappa_score(y_test,y_pred_rfc)\n",
    "round(cohen_score,4)"
   ]
  },
  {
   "cell_type": "markdown",
   "metadata": {},
   "source": [
    "### 3-) XGBoost Model:"
   ]
  },
  {
   "cell_type": "code",
   "execution_count": 86,
   "metadata": {},
   "outputs": [],
   "source": [
    "xgb_classifier = XGBClassifier()\n",
    "xgb_classifier.fit(X_train,y_train)\n",
    "y_pred_xgb = xgb_classifier.predict(X_test)"
   ]
  },
  {
   "cell_type": "code",
   "execution_count": 87,
   "metadata": {},
   "outputs": [
    {
     "name": "stdout",
     "output_type": "stream",
     "text": [
      "[[24755   155]\n",
      " [  688  1442]]\n",
      "\n",
      "Accuracy :  96.8824 %\n"
     ]
    }
   ],
   "source": [
    "# Generate confusion matrix and accuracy\n",
    "cm_xgb_classifier = confusion_matrix(y_test,y_pred_xgb)\n",
    "print(cm_xgb_classifier,end='\\n\\n')\n",
    "numerator = cm_xgb_classifier[0][0] + cm_xgb_classifier[1][1]\n",
    "denominator = sum(cm_xgb_classifier[0]) + sum(cm_xgb_classifier[1])\n",
    "acc_xgb = (numerator/denominator) * 100\n",
    "print(\"Accuracy : \",round(acc_xgb,4),\"%\")"
   ]
  },
  {
   "cell_type": "code",
   "execution_count": 88,
   "metadata": {},
   "outputs": [
    {
     "name": "stdout",
     "output_type": "stream",
     "text": [
      "Cross Validation Accuracy :  96.9148 %\n"
     ]
    }
   ],
   "source": [
    "cross_val_xgb = cross_val_score(estimator=XGBClassifier(), X=X_train, y=y_train, cv=10, n_jobs=-1)\n",
    "print(\"Cross Validation Accuracy : \",round(cross_val_xgb.mean() * 100 , 4),\"%\")"
   ]
  },
  {
   "cell_type": "code",
   "execution_count": 89,
   "metadata": {},
   "outputs": [
    {
     "data": {
      "text/plain": [
       "0.7574"
      ]
     },
     "execution_count": 89,
     "metadata": {},
     "output_type": "execute_result"
    }
   ],
   "source": [
    "## Since data set is very unbalanced, let's check Cohen's Kappa Score\n",
    "cohen_score = cohen_kappa_score(y_test,y_pred_xgb)\n",
    "round(cohen_score,4)"
   ]
  },
  {
   "cell_type": "markdown",
   "metadata": {},
   "source": [
    "### 4-) Naive Base Model:"
   ]
  },
  {
   "cell_type": "code",
   "execution_count": 90,
   "metadata": {},
   "outputs": [
    {
     "data": {
      "text/plain": [
       "GaussianNB(priors=None, var_smoothing=1e-09)"
      ]
     },
     "execution_count": 90,
     "metadata": {},
     "output_type": "execute_result"
    }
   ],
   "source": [
    "# fit a Naive Bayes model to the data\n",
    "modelnb = GaussianNB()\n",
    "modelnb.fit(X_train, y_train)"
   ]
  },
  {
   "cell_type": "code",
   "execution_count": 91,
   "metadata": {},
   "outputs": [],
   "source": [
    "y_pred_nb = modelnb.predict(X_test) # Prediction"
   ]
  },
  {
   "cell_type": "code",
   "execution_count": 92,
   "metadata": {},
   "outputs": [
    {
     "name": "stdout",
     "output_type": "stream",
     "text": [
      "[[24663   247]\n",
      " [ 1414   716]]\n",
      "\n",
      "Accuracy :  93.8572 %\n"
     ]
    }
   ],
   "source": [
    "# Generate confusion matrix and accuracy\n",
    "cm_nb_classifier = confusion_matrix(y_test,y_pred_nb)\n",
    "print(cm_nb_classifier,end='\\n\\n')\n",
    "numerator = cm_nb_classifier[0][0] + cm_nb_classifier[1][1]\n",
    "denominator = sum(cm_nb_classifier[0]) + sum(cm_nb_classifier[1])\n",
    "acc_nb = (numerator/denominator) * 100\n",
    "print(\"Accuracy : \",round(acc_nb,4),\"%\")"
   ]
  },
  {
   "cell_type": "code",
   "execution_count": 93,
   "metadata": {},
   "outputs": [
    {
     "name": "stdout",
     "output_type": "stream",
     "text": [
      "Cross Validation Accuracy :  93.7824 %\n"
     ]
    }
   ],
   "source": [
    "cross_val_nb = cross_val_score(estimator=GaussianNB(), X=X_train, y=y_train, cv=10, n_jobs=-1)\n",
    "print(\"Cross Validation Accuracy : \",round(cross_val_nb.mean() * 100 , 4),\"%\")"
   ]
  },
  {
   "cell_type": "code",
   "execution_count": 94,
   "metadata": {},
   "outputs": [
    {
     "data": {
      "text/plain": [
       "0.4353"
      ]
     },
     "execution_count": 94,
     "metadata": {},
     "output_type": "execute_result"
    }
   ],
   "source": [
    "## Since data set is very unbalanced, let's check Cohen's Kappa Score\n",
    "cohen_score = cohen_kappa_score(y_test,y_pred_nb)\n",
    "round(cohen_score,4)"
   ]
  },
  {
   "cell_type": "markdown",
   "metadata": {},
   "source": [
    "### 5-) k-Nearest Neighbor:"
   ]
  },
  {
   "cell_type": "code",
   "execution_count": 95,
   "metadata": {},
   "outputs": [
    {
     "data": {
      "text/plain": [
       "KNeighborsClassifier(algorithm='auto', leaf_size=30, metric='minkowski',\n",
       "           metric_params=None, n_jobs=None, n_neighbors=5, p=2,\n",
       "           weights='uniform')"
      ]
     },
     "execution_count": 95,
     "metadata": {},
     "output_type": "execute_result"
    }
   ],
   "source": [
    "modelknn = KNeighborsClassifier()\n",
    "modelknn.fit(X_train, y_train)"
   ]
  },
  {
   "cell_type": "code",
   "execution_count": 96,
   "metadata": {},
   "outputs": [],
   "source": [
    "y_pred_knn = modelknn.predict(X_test) # Prediction"
   ]
  },
  {
   "cell_type": "code",
   "execution_count": 97,
   "metadata": {},
   "outputs": [
    {
     "name": "stdout",
     "output_type": "stream",
     "text": [
      "[[24856    54]\n",
      " [    0  2130]]\n",
      "\n",
      "Accuracy :  99.8003 %\n"
     ]
    }
   ],
   "source": [
    "# Generate confusion matrix and accuracy\n",
    "cm_knn_classifier = confusion_matrix(y_test,y_pred_knn)\n",
    "print(cm_knn_classifier,end='\\n\\n')\n",
    "numerator = cm_knn_classifier[0][0] + cm_knn_classifier[1][1]\n",
    "denominator = sum(cm_knn_classifier[0]) + sum(cm_knn_classifier[1])\n",
    "acc_knn = (numerator/denominator) * 100\n",
    "print(\"Accuracy : \",round(acc_knn,4),\"%\")"
   ]
  },
  {
   "cell_type": "code",
   "execution_count": 98,
   "metadata": {},
   "outputs": [
    {
     "name": "stdout",
     "output_type": "stream",
     "text": [
      "Cross Validation Accuracy :  99.8105 %\n"
     ]
    }
   ],
   "source": [
    "cross_val_knn = cross_val_score(estimator=KNeighborsClassifier(), X=X_train, y=y_train, cv=10, n_jobs=-1)\n",
    "print(\"Cross Validation Accuracy : \",round(cross_val_knn.mean() * 100 , 4),\"%\")"
   ]
  },
  {
   "cell_type": "code",
   "execution_count": 99,
   "metadata": {},
   "outputs": [
    {
     "data": {
      "text/plain": [
       "0.9864"
      ]
     },
     "execution_count": 99,
     "metadata": {},
     "output_type": "execute_result"
    }
   ],
   "source": [
    "## Since data set is very unbalanced, let's check Cohen's Kappa Score\n",
    "cohen_score = cohen_kappa_score(y_test,y_pred_knn)\n",
    "round(cohen_score,4)"
   ]
  },
  {
   "cell_type": "markdown",
   "metadata": {},
   "source": [
    "### Deep Learning Models, in particular TensorFlow Estimator API model for our data:"
   ]
  },
  {
   "cell_type": "code",
   "execution_count": 100,
   "metadata": {},
   "outputs": [],
   "source": [
    "import tensorflow as tf"
   ]
  },
  {
   "cell_type": "code",
   "execution_count": 101,
   "metadata": {},
   "outputs": [],
   "source": [
    "# For TF Estimator API, we need to define feature columns(Since all of them are continuous columns, we will be using numeric column)\n",
    "attr1=tf.feature_column.numeric_column('attribute1')\n",
    "attr2=tf.feature_column.numeric_column('attribute2')\n",
    "attr3=tf.feature_column.numeric_column('attribute3')\n",
    "attr4=tf.feature_column.numeric_column('attribute4')\n",
    "attr5=tf.feature_column.numeric_column('attribute5')\n",
    "attr6=tf.feature_column.numeric_column('attribute6')\n",
    "attr7=tf.feature_column.numeric_column('attribute7')\n",
    "attr8=tf.feature_column.numeric_column('attribute8')\n",
    "attr9=tf.feature_column.numeric_column('attribute9')"
   ]
  },
  {
   "cell_type": "code",
   "execution_count": 102,
   "metadata": {},
   "outputs": [],
   "source": [
    "feat_cols=[attr1, attr2, attr3, attr4, attr5, attr6, attr7, attr8, attr9]"
   ]
  },
  {
   "cell_type": "code",
   "execution_count": 103,
   "metadata": {},
   "outputs": [
    {
     "data": {
      "text/plain": [
       "38691    0\n",
       "74232    0\n",
       "25479    0\n",
       "12209    0\n",
       "17790    0\n",
       "Name: failure, dtype: int64"
      ]
     },
     "execution_count": 103,
     "metadata": {},
     "output_type": "execute_result"
    }
   ],
   "source": [
    "labels.head()"
   ]
  },
  {
   "cell_type": "code",
   "execution_count": 104,
   "metadata": {},
   "outputs": [
    {
     "data": {
      "text/html": [
       "<div>\n",
       "<style scoped>\n",
       "    .dataframe tbody tr th:only-of-type {\n",
       "        vertical-align: middle;\n",
       "    }\n",
       "\n",
       "    .dataframe tbody tr th {\n",
       "        vertical-align: top;\n",
       "    }\n",
       "\n",
       "    .dataframe thead th {\n",
       "        text-align: right;\n",
       "    }\n",
       "</style>\n",
       "<table border=\"1\" class=\"dataframe\">\n",
       "  <thead>\n",
       "    <tr style=\"text-align: right;\">\n",
       "      <th></th>\n",
       "      <th>attribute1</th>\n",
       "      <th>attribute2</th>\n",
       "      <th>attribute3</th>\n",
       "      <th>attribute4</th>\n",
       "      <th>attribute5</th>\n",
       "      <th>attribute6</th>\n",
       "      <th>attribute7</th>\n",
       "      <th>attribute8</th>\n",
       "      <th>attribute9</th>\n",
       "    </tr>\n",
       "  </thead>\n",
       "  <tbody>\n",
       "    <tr>\n",
       "      <th>38691</th>\n",
       "      <td>0.095591</td>\n",
       "      <td>0.000000</td>\n",
       "      <td>0.0</td>\n",
       "      <td>0.000000</td>\n",
       "      <td>0.113402</td>\n",
       "      <td>0.312368</td>\n",
       "      <td>0.0</td>\n",
       "      <td>0.0</td>\n",
       "      <td>0.0</td>\n",
       "    </tr>\n",
       "    <tr>\n",
       "      <th>74232</th>\n",
       "      <td>0.203431</td>\n",
       "      <td>0.000000</td>\n",
       "      <td>0.0</td>\n",
       "      <td>0.000000</td>\n",
       "      <td>0.041237</td>\n",
       "      <td>0.391315</td>\n",
       "      <td>0.0</td>\n",
       "      <td>0.0</td>\n",
       "      <td>0.0</td>\n",
       "    </tr>\n",
       "    <tr>\n",
       "      <th>25479</th>\n",
       "      <td>0.112739</td>\n",
       "      <td>0.000000</td>\n",
       "      <td>0.0</td>\n",
       "      <td>0.000000</td>\n",
       "      <td>0.103093</td>\n",
       "      <td>0.343140</td>\n",
       "      <td>0.0</td>\n",
       "      <td>0.0</td>\n",
       "      <td>0.0</td>\n",
       "    </tr>\n",
       "    <tr>\n",
       "      <th>12209</th>\n",
       "      <td>0.022903</td>\n",
       "      <td>0.029676</td>\n",
       "      <td>0.0</td>\n",
       "      <td>0.003601</td>\n",
       "      <td>0.061856</td>\n",
       "      <td>0.530096</td>\n",
       "      <td>0.0</td>\n",
       "      <td>0.0</td>\n",
       "      <td>0.0</td>\n",
       "    </tr>\n",
       "    <tr>\n",
       "      <th>17790</th>\n",
       "      <td>0.219405</td>\n",
       "      <td>0.000000</td>\n",
       "      <td>0.0</td>\n",
       "      <td>0.000000</td>\n",
       "      <td>0.051546</td>\n",
       "      <td>0.443203</td>\n",
       "      <td>0.0</td>\n",
       "      <td>0.0</td>\n",
       "      <td>0.0</td>\n",
       "    </tr>\n",
       "  </tbody>\n",
       "</table>\n",
       "</div>"
      ],
      "text/plain": [
       "       attribute1  attribute2  attribute3  attribute4  attribute5  attribute6  \\\n",
       "38691    0.095591    0.000000         0.0    0.000000    0.113402    0.312368   \n",
       "74232    0.203431    0.000000         0.0    0.000000    0.041237    0.391315   \n",
       "25479    0.112739    0.000000         0.0    0.000000    0.103093    0.343140   \n",
       "12209    0.022903    0.029676         0.0    0.003601    0.061856    0.530096   \n",
       "17790    0.219405    0.000000         0.0    0.000000    0.051546    0.443203   \n",
       "\n",
       "       attribute7  attribute8  attribute9  \n",
       "38691         0.0         0.0         0.0  \n",
       "74232         0.0         0.0         0.0  \n",
       "25479         0.0         0.0         0.0  \n",
       "12209         0.0         0.0         0.0  \n",
       "17790         0.0         0.0         0.0  "
      ]
     },
     "execution_count": 104,
     "metadata": {},
     "output_type": "execute_result"
    }
   ],
   "source": [
    "feature_vectors.head()"
   ]
  },
  {
   "cell_type": "markdown",
   "metadata": {},
   "source": [
    "### Next, let's split our data into train and test data as follows:"
   ]
  },
  {
   "cell_type": "code",
   "execution_count": 105,
   "metadata": {},
   "outputs": [],
   "source": [
    "## X_train, X_test, y_train, y_test = train_test_split(feature_vectors, labels, test_size=0.20)  # Train and Test data\n",
    "# Since we have already split our data in the previous classification operations, we don't need to split it again!"
   ]
  },
  {
   "cell_type": "code",
   "execution_count": 106,
   "metadata": {},
   "outputs": [],
   "source": [
    "input_func=tf.estimator.inputs.pandas_input_fn(x=X_train, y=y_train, batch_size=10, num_epochs=1000, shuffle=True)"
   ]
  },
  {
   "cell_type": "code",
   "execution_count": 107,
   "metadata": {},
   "outputs": [
    {
     "name": "stdout",
     "output_type": "stream",
     "text": [
      "INFO:tensorflow:Using default config.\n",
      "WARNING:tensorflow:Using temporary folder as model directory: C:\\Users\\Sertan\\AppData\\Local\\Temp\\tmpuauuy6ha\n",
      "INFO:tensorflow:Using config: {'_model_dir': 'C:\\\\Users\\\\Sertan\\\\AppData\\\\Local\\\\Temp\\\\tmpuauuy6ha', '_tf_random_seed': None, '_save_summary_steps': 100, '_save_checkpoints_steps': None, '_save_checkpoints_secs': 600, '_session_config': allow_soft_placement: true\n",
      "graph_options {\n",
      "  rewrite_options {\n",
      "    meta_optimizer_iterations: ONE\n",
      "  }\n",
      "}\n",
      ", '_keep_checkpoint_max': 5, '_keep_checkpoint_every_n_hours': 10000, '_log_step_count_steps': 100, '_train_distribute': None, '_device_fn': None, '_protocol': None, '_eval_distribute': None, '_experimental_distribute': None, '_service': None, '_cluster_spec': <tensorflow.python.training.server_lib.ClusterSpec object at 0x000001940CC3EE80>, '_task_type': 'worker', '_task_id': 0, '_global_id_in_cluster': 0, '_master': '', '_evaluation_master': '', '_is_chief': True, '_num_ps_replicas': 0, '_num_worker_replicas': 1}\n"
     ]
    }
   ],
   "source": [
    "model=tf.estimator.LinearClassifier(feature_columns=feat_cols, n_classes=2)"
   ]
  },
  {
   "cell_type": "code",
   "execution_count": 108,
   "metadata": {},
   "outputs": [
    {
     "name": "stdout",
     "output_type": "stream",
     "text": [
      "INFO:tensorflow:Calling model_fn.\n",
      "INFO:tensorflow:Done calling model_fn.\n",
      "INFO:tensorflow:Create CheckpointSaverHook.\n",
      "INFO:tensorflow:Graph was finalized.\n",
      "INFO:tensorflow:Running local_init_op.\n",
      "INFO:tensorflow:Done running local_init_op.\n",
      "INFO:tensorflow:Saving checkpoints for 0 into C:\\Users\\Sertan\\AppData\\Local\\Temp\\tmpuauuy6ha\\model.ckpt.\n",
      "INFO:tensorflow:loss = 6.931472, step = 1\n",
      "INFO:tensorflow:global_step/sec: 235.735\n",
      "INFO:tensorflow:loss = 6.1775684, step = 101 (0.430 sec)\n",
      "INFO:tensorflow:global_step/sec: 353.383\n",
      "INFO:tensorflow:loss = 1.1133516, step = 201 (0.287 sec)\n",
      "INFO:tensorflow:global_step/sec: 342.535\n",
      "INFO:tensorflow:loss = 0.78092825, step = 301 (0.292 sec)\n",
      "INFO:tensorflow:global_step/sec: 339.973\n",
      "INFO:tensorflow:loss = 5.7018795, step = 401 (0.291 sec)\n",
      "INFO:tensorflow:global_step/sec: 359.714\n",
      "INFO:tensorflow:loss = 0.853746, step = 501 (0.280 sec)\n",
      "INFO:tensorflow:global_step/sec: 356.763\n",
      "INFO:tensorflow:loss = 3.1515746, step = 601 (0.283 sec)\n",
      "INFO:tensorflow:global_step/sec: 330.079\n",
      "INFO:tensorflow:loss = 2.4890015, step = 701 (0.303 sec)\n",
      "INFO:tensorflow:global_step/sec: 328.031\n",
      "INFO:tensorflow:loss = 3.18041, step = 801 (0.300 sec)\n",
      "INFO:tensorflow:global_step/sec: 370.676\n",
      "INFO:tensorflow:loss = 0.83171225, step = 901 (0.273 sec)\n",
      "INFO:tensorflow:Saving checkpoints for 1000 into C:\\Users\\Sertan\\AppData\\Local\\Temp\\tmpuauuy6ha\\model.ckpt.\n",
      "INFO:tensorflow:Loss for final step: 0.79522204.\n"
     ]
    },
    {
     "data": {
      "text/plain": [
       "<tensorflow.python.estimator.canned.linear.LinearClassifier at 0x1940cc3e1d0>"
      ]
     },
     "execution_count": 108,
     "metadata": {},
     "output_type": "execute_result"
    }
   ],
   "source": [
    "model.train(input_fn=input_func, steps=1000)"
   ]
  },
  {
   "cell_type": "code",
   "execution_count": 109,
   "metadata": {},
   "outputs": [],
   "source": [
    "eval_input_func=tf.estimator.inputs.pandas_input_fn(x=X_test, y=y_test, batch_size=10, num_epochs=1, shuffle=False)"
   ]
  },
  {
   "cell_type": "code",
   "execution_count": 110,
   "metadata": {},
   "outputs": [
    {
     "name": "stdout",
     "output_type": "stream",
     "text": [
      "INFO:tensorflow:Calling model_fn.\n",
      "WARNING:tensorflow:Trapezoidal rule is known to produce incorrect PR-AUCs; please switch to \"careful_interpolation\" instead.\n",
      "WARNING:tensorflow:Trapezoidal rule is known to produce incorrect PR-AUCs; please switch to \"careful_interpolation\" instead.\n",
      "INFO:tensorflow:Done calling model_fn.\n",
      "INFO:tensorflow:Starting evaluation at 2019-01-23-21:19:58\n",
      "INFO:tensorflow:Graph was finalized.\n",
      "INFO:tensorflow:Restoring parameters from C:\\Users\\Sertan\\AppData\\Local\\Temp\\tmpuauuy6ha\\model.ckpt-1000\n",
      "INFO:tensorflow:Running local_init_op.\n",
      "INFO:tensorflow:Done running local_init_op.\n",
      "INFO:tensorflow:Finished evaluation at 2019-01-23-21:20:06\n",
      "INFO:tensorflow:Saving dict for global step 1000: accuracy = 0.92659026, accuracy_baseline = 0.9212278, auc = 0.6303042, auc_precision_recall = 0.28776234, average_loss = 0.25509268, global_step = 1000, label/mean = 0.07877219, loss = 2.5509267, precision = 0.93939394, prediction/mean = 0.08627975, recall = 0.072769955\n",
      "INFO:tensorflow:Saving 'checkpoint_path' summary for global step 1000: C:\\Users\\Sertan\\AppData\\Local\\Temp\\tmpuauuy6ha\\model.ckpt-1000\n"
     ]
    }
   ],
   "source": [
    "results=model.evaluate(eval_input_func)"
   ]
  },
  {
   "cell_type": "code",
   "execution_count": 111,
   "metadata": {},
   "outputs": [
    {
     "data": {
      "text/plain": [
       "{'accuracy': 0.92659026,\n",
       " 'accuracy_baseline': 0.9212278,\n",
       " 'auc': 0.6303042,\n",
       " 'auc_precision_recall': 0.28776234,\n",
       " 'average_loss': 0.25509268,\n",
       " 'label/mean': 0.07877219,\n",
       " 'loss': 2.5509267,\n",
       " 'precision': 0.93939394,\n",
       " 'prediction/mean': 0.08627975,\n",
       " 'recall': 0.072769955,\n",
       " 'global_step': 1000}"
      ]
     },
     "execution_count": 111,
     "metadata": {},
     "output_type": "execute_result"
    }
   ],
   "source": [
    "results"
   ]
  },
  {
   "cell_type": "code",
   "execution_count": 112,
   "metadata": {},
   "outputs": [],
   "source": [
    "pred_input_func=tf.estimator.inputs.pandas_input_fn(x=X_test, batch_size=10, num_epochs=1, shuffle=False)"
   ]
  },
  {
   "cell_type": "code",
   "execution_count": 113,
   "metadata": {},
   "outputs": [],
   "source": [
    "predictions=model.predict(pred_input_func)"
   ]
  },
  {
   "cell_type": "code",
   "execution_count": 114,
   "metadata": {},
   "outputs": [
    {
     "name": "stdout",
     "output_type": "stream",
     "text": [
      "INFO:tensorflow:Calling model_fn.\n",
      "INFO:tensorflow:Done calling model_fn.\n",
      "INFO:tensorflow:Graph was finalized.\n",
      "INFO:tensorflow:Restoring parameters from C:\\Users\\Sertan\\AppData\\Local\\Temp\\tmpuauuy6ha\\model.ckpt-1000\n",
      "INFO:tensorflow:Running local_init_op.\n",
      "INFO:tensorflow:Done running local_init_op.\n"
     ]
    }
   ],
   "source": [
    "my_pred=list(predictions)"
   ]
  },
  {
   "cell_type": "code",
   "execution_count": 115,
   "metadata": {},
   "outputs": [
    {
     "name": "stdout",
     "output_type": "stream",
     "text": [
      "INFO:tensorflow:Using default config.\n",
      "WARNING:tensorflow:Using temporary folder as model directory: C:\\Users\\Sertan\\AppData\\Local\\Temp\\tmpadxh36so\n",
      "INFO:tensorflow:Using config: {'_model_dir': 'C:\\\\Users\\\\Sertan\\\\AppData\\\\Local\\\\Temp\\\\tmpadxh36so', '_tf_random_seed': None, '_save_summary_steps': 100, '_save_checkpoints_steps': None, '_save_checkpoints_secs': 600, '_session_config': allow_soft_placement: true\n",
      "graph_options {\n",
      "  rewrite_options {\n",
      "    meta_optimizer_iterations: ONE\n",
      "  }\n",
      "}\n",
      ", '_keep_checkpoint_max': 5, '_keep_checkpoint_every_n_hours': 10000, '_log_step_count_steps': 100, '_train_distribute': None, '_device_fn': None, '_protocol': None, '_eval_distribute': None, '_experimental_distribute': None, '_service': None, '_cluster_spec': <tensorflow.python.training.server_lib.ClusterSpec object at 0x00000194127D1400>, '_task_type': 'worker', '_task_id': 0, '_global_id_in_cluster': 0, '_master': '', '_evaluation_master': '', '_is_chief': True, '_num_ps_replicas': 0, '_num_worker_replicas': 1}\n"
     ]
    }
   ],
   "source": [
    "# Now, let's change the classifier as Deeply Connected Neurel Network\n",
    "dnn_model=tf.estimator.DNNClassifier(hidden_units=[8, 8], feature_columns=feat_cols, n_classes=2)"
   ]
  },
  {
   "cell_type": "code",
   "execution_count": 116,
   "metadata": {},
   "outputs": [
    {
     "name": "stdout",
     "output_type": "stream",
     "text": [
      "INFO:tensorflow:Calling model_fn.\n",
      "INFO:tensorflow:Done calling model_fn.\n",
      "INFO:tensorflow:Create CheckpointSaverHook.\n",
      "INFO:tensorflow:Graph was finalized.\n",
      "INFO:tensorflow:Running local_init_op.\n",
      "INFO:tensorflow:Done running local_init_op.\n",
      "INFO:tensorflow:Saving checkpoints for 0 into C:\\Users\\Sertan\\AppData\\Local\\Temp\\tmpadxh36so\\model.ckpt.\n",
      "INFO:tensorflow:loss = 6.5674324, step = 1\n",
      "INFO:tensorflow:global_step/sec: 246.064\n",
      "INFO:tensorflow:loss = 0.3429582, step = 101 (0.409 sec)\n",
      "INFO:tensorflow:global_step/sec: 356.841\n",
      "INFO:tensorflow:loss = 3.236828, step = 201 (0.288 sec)\n",
      "INFO:tensorflow:global_step/sec: 342.723\n",
      "INFO:tensorflow:loss = 0.7914312, step = 301 (0.290 sec)\n",
      "INFO:tensorflow:global_step/sec: 347.778\n",
      "INFO:tensorflow:loss = 0.6893047, step = 401 (0.289 sec)\n",
      "INFO:tensorflow:global_step/sec: 309.894\n",
      "INFO:tensorflow:loss = 1.1385949, step = 501 (0.326 sec)\n",
      "INFO:tensorflow:global_step/sec: 351.211\n",
      "INFO:tensorflow:loss = 0.95407104, step = 601 (0.283 sec)\n",
      "INFO:tensorflow:global_step/sec: 353.744\n",
      "INFO:tensorflow:loss = 3.2633197, step = 701 (0.281 sec)\n",
      "INFO:tensorflow:global_step/sec: 328.181\n",
      "INFO:tensorflow:loss = 0.55023897, step = 801 (0.303 sec)\n",
      "INFO:tensorflow:global_step/sec: 325.845\n",
      "INFO:tensorflow:loss = 2.4902527, step = 901 (0.310 sec)\n",
      "INFO:tensorflow:Saving checkpoints for 1000 into C:\\Users\\Sertan\\AppData\\Local\\Temp\\tmpadxh36so\\model.ckpt.\n",
      "INFO:tensorflow:Loss for final step: 1.3085368.\n"
     ]
    },
    {
     "data": {
      "text/plain": [
       "<tensorflow.python.estimator.canned.dnn.DNNClassifier at 0x1940fca2d68>"
      ]
     },
     "execution_count": 116,
     "metadata": {},
     "output_type": "execute_result"
    }
   ],
   "source": [
    "dnn_model.train(input_fn=input_func, steps=1000)"
   ]
  },
  {
   "cell_type": "code",
   "execution_count": 119,
   "metadata": {},
   "outputs": [],
   "source": [
    "# DNN predictions:\n",
    "predictions2=dnn_model.predict(pred_input_func)"
   ]
  },
  {
   "cell_type": "code",
   "execution_count": 120,
   "metadata": {},
   "outputs": [
    {
     "name": "stdout",
     "output_type": "stream",
     "text": [
      "INFO:tensorflow:Calling model_fn.\n",
      "INFO:tensorflow:Done calling model_fn.\n",
      "INFO:tensorflow:Graph was finalized.\n",
      "INFO:tensorflow:Restoring parameters from C:\\Users\\Sertan\\AppData\\Local\\Temp\\tmpadxh36so\\model.ckpt-1000\n",
      "INFO:tensorflow:Running local_init_op.\n",
      "INFO:tensorflow:Done running local_init_op.\n"
     ]
    }
   ],
   "source": [
    "# mydnn_predict\n",
    "mydnn_pred=list(predictions2)"
   ]
  },
  {
   "cell_type": "code",
   "execution_count": 121,
   "metadata": {},
   "outputs": [],
   "source": [
    "y_pred_deepnn=[pred['class_ids'][0] for pred in mydnn_pred]"
   ]
  },
  {
   "cell_type": "code",
   "execution_count": 122,
   "metadata": {},
   "outputs": [
    {
     "name": "stdout",
     "output_type": "stream",
     "text": [
      "[[24910     0]\n",
      " [ 2130     0]]\n",
      "\n",
      "Accuracy :  92.1228 %\n"
     ]
    }
   ],
   "source": [
    "# Generate confusion matrix and accuracy\n",
    "deepnn_classifier = confusion_matrix(y_test,y_pred_deepnn)\n",
    "print(deepnn_classifier,end='\\n\\n')\n",
    "numerator = deepnn_classifier[0][0] + deepnn_classifier[1][1]\n",
    "denominator = sum(deepnn_classifier[0]) + sum(deepnn_classifier[1])\n",
    "acc_dnn = (numerator/denominator) * 100\n",
    "print(\"Accuracy : \",round(acc_dnn,4),\"%\")"
   ]
  },
  {
   "cell_type": "code",
   "execution_count": 123,
   "metadata": {},
   "outputs": [
    {
     "data": {
      "text/plain": [
       "0.7574"
      ]
     },
     "execution_count": 123,
     "metadata": {},
     "output_type": "execute_result"
    }
   ],
   "source": [
    "## Since data set is very unbalanced, let's check Cohen's Kappa Score\n",
    "cohen_score = cohen_kappa_score(y_test,y_pred_xgb)\n",
    "round(cohen_score,4)"
   ]
  },
  {
   "cell_type": "markdown",
   "metadata": {},
   "source": [
    "## We have resolved unbalanced data problem by oversampling positive data.                           ##     Thus, this is what we get as a result:\n",
    "##\n",
    "###      Classifier:             Accuracy:         Cross validation accuracy:                            Cohen's Kappa Score:\n",
    "###           SVM                          93.4948%                            93.3746%                                           0.3157\n",
    "### Random Forest Model      99.963%                              99.9695%                                           0.9975\n",
    "###    XGBoost Model              96.8824%                            96.9148%                                           0.7574\n",
    "### Naive Base Model             93.8572%                            93.7824%                                           0.4353\n",
    "### k-Nearest Neighbor          99.8003%                            99.8105%                                           0.9864\n",
    "### TF Estimator - DNN          92.7959%                                                                                        0.7606\n",
    "\n",
    "### As you can see the table above, Random Forest Model has not only best classification accuracy, but also it has higher Cohen's Kappa Score (close to 1) which shows perfect agreement with our data set. Therefore, in the coding part, I will be using Random Forest Model in the class package.  \n",
    "\n",
    "## 2nd best is K-Nearest Neighbor is classifier"
   ]
  },
  {
   "cell_type": "code",
   "execution_count": null,
   "metadata": {},
   "outputs": [],
   "source": []
  }
 ],
 "metadata": {
  "kernelspec": {
   "display_name": "Python 3",
   "language": "python",
   "name": "python3"
  },
  "language_info": {
   "codemirror_mode": {
    "name": "ipython",
    "version": 3
   },
   "file_extension": ".py",
   "mimetype": "text/x-python",
   "name": "python",
   "nbconvert_exporter": "python",
   "pygments_lexer": "ipython3",
   "version": "3.6.7"
  }
 },
 "nbformat": 4,
 "nbformat_minor": 2
}
