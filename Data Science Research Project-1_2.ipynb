{
 "cells": [
  {
   "cell_type": "markdown",
   "metadata": {},
   "source": [
    "# The Task"
   ]
  },
  {
   "cell_type": "markdown",
   "metadata": {},
   "source": [
    "## 2. Code:"
   ]
  },
  {
   "cell_type": "code",
   "execution_count": 1,
   "metadata": {},
   "outputs": [],
   "source": [
    "import pandas as pd\n",
    "import numpy as np\n",
    "import matplotlib.pyplot as plt\n",
    "from sklearn.preprocessing import StandardScaler\n",
    "from sklearn.metrics import confusion_matrix\n",
    "from sklearn.model_selection import cross_val_score\n",
    "from sklearn.model_selection import train_test_split\n",
    "from sklearn.ensemble import RandomForestClassifier\n",
    "#from openpyxl import Workbook\n",
    "%matplotlib inline"
   ]
  },
  {
   "cell_type": "code",
   "execution_count": 2,
   "metadata": {},
   "outputs": [],
   "source": [
    "class failure_project(object):\n",
    "    def train(self, file_name=[]):\n",
    "        \n",
    "        if len(file_name)==0:\n",
    "            print(\" !! Error: Please file_name as an argument to train()\")\n",
    "            return\n",
    "        \n",
    "        # Read cvs file\n",
    "        # Read csv file using pandas\n",
    "        df = pd.read_csv(file_name)\n",
    "        \n",
    "        # This is how we implement to \"Oversampling\"\n",
    "        j=0\n",
    "        k=1\n",
    "        for i in range(1,len(df)):  # Go thru entire data set\n",
    "            if df.iloc[i,2]==1:     # Identifying positive samples\n",
    "                for j in range(101):\n",
    "                    df.loc[len(df)+k]=df.iloc[i,:]  # Copying each sample 100 times and appending the data frame\n",
    "                    k+=1\n",
    "                    \n",
    "        # Mixing the data, so that positive and negative samples are randomly distributed\n",
    "        df_new=df.reindex(np.random.permutation(df.index))\n",
    "        \n",
    "        # Arrange feature vectors and labels\n",
    "        feature_vectors=df_new[['attribute1','attribute2','attribute3','attribute4','attribute5','attribute6','attribute7','attribute8','attribute9']]\n",
    "        labels=df_new['failure']\n",
    "        \n",
    "        # Normalize featute vectors:\n",
    "        feature_vectors=feature_vectors.apply(lambda x: (x-x.min())/(x.max()-x.min()))\n",
    "        \n",
    "        # Split the data into training and testing data\n",
    "        X_train, X_test, y_train, y_test = train_test_split(feature_vectors, labels, test_size=0.20)  # Train and Test data\n",
    "\n",
    "        self.X_test=X_test\n",
    "        self.y_test=y_test\n",
    "        \n",
    "        # Create Random Forest Classifier and train the model\n",
    "        random_forest_classifier = RandomForestClassifier()\n",
    "        random_forest_classifier.fit(X_train,y_train)\n",
    "        y_pred_rfc = random_forest_classifier.predict(X_test)\n",
    "        \n",
    "        # Generate confusion matrix and accuracy\n",
    "        cm_random_forest_classifier = confusion_matrix(y_test,y_pred_rfc)\n",
    "        print(cm_random_forest_classifier,end=\"\\n\\n\")\n",
    "        numerator = cm_random_forest_classifier[0][0] + cm_random_forest_classifier[1][1]\n",
    "        denominator = sum(cm_random_forest_classifier[0]) + sum(cm_random_forest_classifier[1])\n",
    "        acc_rfc = (numerator/denominator) * 100\n",
    "        print(\"Accuracy : \",round(acc_rfc,4),\"%\")\n",
    "                \n",
    "        # Save the model for the random forest classifier\n",
    "        self.random_forest_model=random_forest_classifier\n",
    "    \n",
    "  \n",
    "    def predict(self, test_file=[]):\n",
    "        if len(test_file)==0:\n",
    "            print(\" !! Error: Please provide test file as argument to predict()\")\n",
    "            return\n",
    "        \n",
    "        # Read test cvs file\n",
    "        df_predict = pd.read_csv(test_file)\n",
    "        \n",
    "        # Arrange feature vectors and labels\n",
    "        feature_vectors_predict=df_predict[['attribute1','attribute2','attribute3','attribute4','attribute5','attribute6','attribute7','attribute8','attribute9']]\n",
    "        labels_predict=df_predict['failure']\n",
    "        \n",
    "        # Normalize featute vectors:\n",
    "        feature_vectors_predict=feature_vectors_predict.apply(lambda x: (x-x.min())/(x.max()-x.min()))\n",
    "        \n",
    "        \n",
    "        # Make a prediction using the model\n",
    "        y_pred_rfc = self.random_forest_model.predict(feature_vectors_predict)\n",
    "        \n",
    "        # Generate confusion matrix and accuracy\n",
    "        cm_random_forest_classifier = confusion_matrix(labels_predict,y_pred_rfc)\n",
    "        print(cm_random_forest_classifier,end=\"\\n\\n\")\n",
    "        numerator = cm_random_forest_classifier[0][0] + cm_random_forest_classifier[1][1]\n",
    "        denominator = sum(cm_random_forest_classifier[0]) + sum(cm_random_forest_classifier[1])\n",
    "        acc_rfc = (numerator/denominator) * 100\n",
    "        print(\"Accuracy : \",round(acc_rfc,4),\"%\")\n",
    "        \n",
    "        # Create column for writing into cvs file\n",
    "        df_predict['predicted failure']=y_pred_rfc\n",
    "        \n",
    "        # Write predicted column into the test_file\n",
    "        df_predict.to_csv(test_file)\n",
    "        print(\"The new prediction is appended test_file.cvs file as\")\n",
    "        \n",
    "        # return it if it is needed\n",
    "        return y_pred_rfc      "
   ]
  },
  {
   "cell_type": "code",
   "execution_count": 3,
   "metadata": {},
   "outputs": [],
   "source": [
    "a=failure_project()"
   ]
  },
  {
   "cell_type": "code",
   "execution_count": 4,
   "metadata": {},
   "outputs": [
    {
     "name": "stderr",
     "output_type": "stream",
     "text": [
      "C:\\Users\\Sertan\\Anaconda3\\lib\\site-packages\\sklearn\\ensemble\\forest.py:246: FutureWarning: The default value of n_estimators will change from 10 in version 0.20 to 100 in 0.22.\n",
      "  \"10 in version 0.20 to 100 in 0.22.\", FutureWarning)\n"
     ]
    },
    {
     "name": "stdout",
     "output_type": "stream",
     "text": [
      "[[24888    12]\n",
      " [    0  2140]]\n",
      "\n",
      "Accuracy :  99.9556 %\n"
     ]
    }
   ],
   "source": [
    "a.train('predict_failure.csv')"
   ]
  },
  {
   "cell_type": "code",
   "execution_count": 5,
   "metadata": {},
   "outputs": [
    {
     "name": "stdout",
     "output_type": "stream",
     "text": [
      "[[124375     13]\n",
      " [     0    106]]\n",
      "\n",
      "Accuracy :  99.9896 %\n",
      "The new prediction is appended test_file.cvs file as\n"
     ]
    }
   ],
   "source": [
    "output=a.predict('predict_failure_test.csv')  ### I am using the copy of the predict_failure file,  Here we should use test cvs file "
   ]
  },
  {
   "cell_type": "code",
   "execution_count": null,
   "metadata": {},
   "outputs": [],
   "source": []
  }
 ],
 "metadata": {
  "kernelspec": {
   "display_name": "Python 3",
   "language": "python",
   "name": "python3"
  },
  "language_info": {
   "codemirror_mode": {
    "name": "ipython",
    "version": 3
   },
   "file_extension": ".py",
   "mimetype": "text/x-python",
   "name": "python",
   "nbconvert_exporter": "python",
   "pygments_lexer": "ipython3",
   "version": "3.6.7"
  }
 },
 "nbformat": 4,
 "nbformat_minor": 2
}
